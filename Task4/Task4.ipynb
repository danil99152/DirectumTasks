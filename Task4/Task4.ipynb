{
  "nbformat": 4,
  "nbformat_minor": 0,
  "metadata": {
    "accelerator": "GPU",
    "colab": {
      "name": "Task4.ipynb",
      "provenance": []
    },
    "kernelspec": {
      "display_name": "Python 3",
      "language": "python",
      "name": "python3"
    },
    "language_info": {
      "codemirror_mode": {
        "name": "ipython",
        "version": 3
      },
      "file_extension": ".py",
      "mimetype": "text/x-python",
      "name": "python",
      "nbconvert_exporter": "python",
      "pygments_lexer": "ipython3",
      "version": "3.6.4"
    }
  },
  "cells": [
    {
      "cell_type": "code",
      "metadata": {
        "colab": {
          "base_uri": "https://localhost:8080/"
        },
        "id": "kRCGLnta8Z7t",
        "outputId": "82db7459-1b5e-455e-b93c-538fd23b239f"
      },
      "source": [
        "import pandas as pd\n",
        "import re\n",
        "import spacy\n",
        "from spacy.util import minibatch, compounding\n",
        "import random\n",
        "from spacy import displacy\n",
        "spacy.prefer_gpu()"
      ],
      "execution_count": 1,
      "outputs": [
        {
          "output_type": "execute_result",
          "data": {
            "text/plain": [
              "True"
            ]
          },
          "metadata": {
            "tags": []
          },
          "execution_count": 1
        }
      ]
    },
    {
      "cell_type": "code",
      "metadata": {
        "id": "AgZ7VqLV8i9z"
      },
      "source": [
        "from google.colab import drive\n",
        "drive.mount('/content/drive')"
      ],
      "execution_count": null,
      "outputs": []
    },
    {
      "cell_type": "code",
      "metadata": {
        "colab": {
          "base_uri": "https://localhost:8080/",
          "height": 419
        },
        "id": "aaJDvXT68Z7x",
        "outputId": "e0ba184b-a411-4e92-ac84-c6788070c7e4"
      },
      "source": [
        "df = pd.read_json (r'/content/drive/MyDrive/Entity Recognition in Resumes.json',lines=True)\n",
        "df"
      ],
      "execution_count": 3,
      "outputs": [
        {
          "output_type": "execute_result",
          "data": {
            "text/html": [
              "<div>\n",
              "<style scoped>\n",
              "    .dataframe tbody tr th:only-of-type {\n",
              "        vertical-align: middle;\n",
              "    }\n",
              "\n",
              "    .dataframe tbody tr th {\n",
              "        vertical-align: top;\n",
              "    }\n",
              "\n",
              "    .dataframe thead th {\n",
              "        text-align: right;\n",
              "    }\n",
              "</style>\n",
              "<table border=\"1\" class=\"dataframe\">\n",
              "  <thead>\n",
              "    <tr style=\"text-align: right;\">\n",
              "      <th></th>\n",
              "      <th>content</th>\n",
              "      <th>annotation</th>\n",
              "      <th>extras</th>\n",
              "    </tr>\n",
              "  </thead>\n",
              "  <tbody>\n",
              "    <tr>\n",
              "      <th>0</th>\n",
              "      <td>Abhishek Jha\\nApplication Development Associat...</td>\n",
              "      <td>[{'label': ['Skills'], 'points': [{'start': 12...</td>\n",
              "      <td>NaN</td>\n",
              "    </tr>\n",
              "    <tr>\n",
              "      <th>1</th>\n",
              "      <td>Afreen Jamadar\\nActive member of IIIT Committe...</td>\n",
              "      <td>[{'label': ['Email Address'], 'points': [{'sta...</td>\n",
              "      <td>NaN</td>\n",
              "    </tr>\n",
              "    <tr>\n",
              "      <th>2</th>\n",
              "      <td>Akhil Yadav Polemaina\\nHyderabad, Telangana - ...</td>\n",
              "      <td>[{'label': ['Skills'], 'points': [{'start': 37...</td>\n",
              "      <td>NaN</td>\n",
              "    </tr>\n",
              "    <tr>\n",
              "      <th>3</th>\n",
              "      <td>Alok Khandai\\nOperational Analyst (SQL DBA) En...</td>\n",
              "      <td>[{'label': ['Skills'], 'points': [{'start': 80...</td>\n",
              "      <td>NaN</td>\n",
              "    </tr>\n",
              "    <tr>\n",
              "      <th>4</th>\n",
              "      <td>Ananya Chavan\\nlecturer - oracle tutorials\\n\\n...</td>\n",
              "      <td>[{'label': ['Degree'], 'points': [{'start': 20...</td>\n",
              "      <td>NaN</td>\n",
              "    </tr>\n",
              "    <tr>\n",
              "      <th>...</th>\n",
              "      <td>...</td>\n",
              "      <td>...</td>\n",
              "      <td>...</td>\n",
              "    </tr>\n",
              "    <tr>\n",
              "      <th>215</th>\n",
              "      <td>Mansi Thanki\\nStudent\\n\\nJamnagar, Gujarat - E...</td>\n",
              "      <td>[{'label': ['College Name'], 'points': [{'star...</td>\n",
              "      <td>NaN</td>\n",
              "    </tr>\n",
              "    <tr>\n",
              "      <th>216</th>\n",
              "      <td>Anil Kumar\\nMicrosoft Azure (Basic Management)...</td>\n",
              "      <td>[{'label': ['Location'], 'points': [{'start': ...</td>\n",
              "      <td>NaN</td>\n",
              "    </tr>\n",
              "    <tr>\n",
              "      <th>217</th>\n",
              "      <td>Siddharth Choudhary\\nMicrosoft Office Suite - ...</td>\n",
              "      <td>[{'label': ['Skills'], 'points': [{'start': 78...</td>\n",
              "      <td>NaN</td>\n",
              "    </tr>\n",
              "    <tr>\n",
              "      <th>218</th>\n",
              "      <td>Valarmathi Dhandapani\\nInvestment Banking Oper...</td>\n",
              "      <td>[{'label': ['Skills'], 'points': [{'start': 92...</td>\n",
              "      <td>NaN</td>\n",
              "    </tr>\n",
              "    <tr>\n",
              "      <th>219</th>\n",
              "      <td>Pradeep Kumar\\nSecurity Analyst in Infosys - C...</td>\n",
              "      <td>[{'label': ['Skills'], 'points': [{'start': 58...</td>\n",
              "      <td>NaN</td>\n",
              "    </tr>\n",
              "  </tbody>\n",
              "</table>\n",
              "<p>220 rows × 3 columns</p>\n",
              "</div>"
            ],
            "text/plain": [
              "                                               content  ... extras\n",
              "0    Abhishek Jha\\nApplication Development Associat...  ...    NaN\n",
              "1    Afreen Jamadar\\nActive member of IIIT Committe...  ...    NaN\n",
              "2    Akhil Yadav Polemaina\\nHyderabad, Telangana - ...  ...    NaN\n",
              "3    Alok Khandai\\nOperational Analyst (SQL DBA) En...  ...    NaN\n",
              "4    Ananya Chavan\\nlecturer - oracle tutorials\\n\\n...  ...    NaN\n",
              "..                                                 ...  ...    ...\n",
              "215  Mansi Thanki\\nStudent\\n\\nJamnagar, Gujarat - E...  ...    NaN\n",
              "216  Anil Kumar\\nMicrosoft Azure (Basic Management)...  ...    NaN\n",
              "217  Siddharth Choudhary\\nMicrosoft Office Suite - ...  ...    NaN\n",
              "218  Valarmathi Dhandapani\\nInvestment Banking Oper...  ...    NaN\n",
              "219  Pradeep Kumar\\nSecurity Analyst in Infosys - C...  ...    NaN\n",
              "\n",
              "[220 rows x 3 columns]"
            ]
          },
          "metadata": {
            "tags": []
          },
          "execution_count": 3
        }
      ]
    },
    {
      "cell_type": "markdown",
      "metadata": {
        "id": "6QRvcGOUMcjq"
      },
      "source": [
        "# Подготовка данных для Spacy"
      ]
    },
    {
      "cell_type": "code",
      "metadata": {
        "id": "lW9A83J0Ppm5"
      },
      "source": [
        "entity_dict = {\n",
        "    'Name': \"PERSON\", \n",
        "    'Companies worked at': \"ORGANIZATION\",\n",
        "    'Skills': \"SKILLS\",\n",
        "    'Location': \"LOCATION\",\n",
        "    'Graduation Year': 'DATE',\n",
        "    'Years of Experience': 'DATE',\n",
        "}"
      ],
      "execution_count": 4,
      "outputs": []
    },
    {
      "cell_type": "code",
      "metadata": {
        "id": "lZXN2AgvPb58"
      },
      "source": [
        "def mergeIntervals(intervals):\n",
        "    sorted_by_lower_bound = sorted(intervals, key=lambda tup: tup[0])\n",
        "    merged = []\n",
        "\n",
        "    for higher in sorted_by_lower_bound:\n",
        "        if not merged:\n",
        "            merged.append(higher)\n",
        "        else:\n",
        "            lower = merged[-1]\n",
        "            if higher[0] <= lower[1]:\n",
        "                if lower[2] is higher[2]:\n",
        "                    upper_bound = max(lower[1], higher[1])\n",
        "                    merged[-1] = (lower[0], upper_bound, lower[2])\n",
        "                else:\n",
        "                    if lower[1] > higher[1]:\n",
        "                        merged[-1] = lower\n",
        "                    else:\n",
        "                        merged[-1] = (lower[0], higher[1], higher[2])\n",
        "            else:\n",
        "                merged.append(higher)\n",
        "\n",
        "    return merged"
      ],
      "execution_count": 5,
      "outputs": []
    },
    {
      "cell_type": "code",
      "metadata": {
        "id": "P8ODhAoTMg7d"
      },
      "source": [
        "def get_entities(df):\n",
        "    \n",
        "    entities = []\n",
        "    \n",
        "    for i in range(len(df)):\n",
        "        entity = []\n",
        "    \n",
        "        for annot in df['annotation'][i]:\n",
        "            try:\n",
        "                ent = entity_dict[annot['label'][0]]\n",
        "                start = annot['points'][0]['start']\n",
        "                end = annot['points'][0]['end'] + 1\n",
        "                entity.append((start, end, ent))\n",
        "            except:\n",
        "                pass\n",
        "    \n",
        "        entity = mergeIntervals(entity)\n",
        "        entities.append(entity)\n",
        "    \n",
        "    return entities"
      ],
      "execution_count": 6,
      "outputs": []
    },
    {
      "cell_type": "code",
      "metadata": {
        "colab": {
          "base_uri": "https://localhost:8080/",
          "height": 204
        },
        "id": "r7lD54q6PSep",
        "outputId": "ddd6e55e-082d-4edf-c72d-3a371bb81cc7"
      },
      "source": [
        "df['entities'] = get_entities(df)\n",
        "df.head()"
      ],
      "execution_count": 7,
      "outputs": [
        {
          "output_type": "execute_result",
          "data": {
            "text/html": [
              "<div>\n",
              "<style scoped>\n",
              "    .dataframe tbody tr th:only-of-type {\n",
              "        vertical-align: middle;\n",
              "    }\n",
              "\n",
              "    .dataframe tbody tr th {\n",
              "        vertical-align: top;\n",
              "    }\n",
              "\n",
              "    .dataframe thead th {\n",
              "        text-align: right;\n",
              "    }\n",
              "</style>\n",
              "<table border=\"1\" class=\"dataframe\">\n",
              "  <thead>\n",
              "    <tr style=\"text-align: right;\">\n",
              "      <th></th>\n",
              "      <th>content</th>\n",
              "      <th>annotation</th>\n",
              "      <th>extras</th>\n",
              "      <th>entities</th>\n",
              "    </tr>\n",
              "  </thead>\n",
              "  <tbody>\n",
              "    <tr>\n",
              "      <th>0</th>\n",
              "      <td>Abhishek Jha\\nApplication Development Associat...</td>\n",
              "      <td>[{'label': ['Skills'], 'points': [{'start': 12...</td>\n",
              "      <td>NaN</td>\n",
              "      <td>[(0, 12, PERSON), (49, 58, ORGANIZATION), (60,...</td>\n",
              "    </tr>\n",
              "    <tr>\n",
              "      <th>1</th>\n",
              "      <td>Afreen Jamadar\\nActive member of IIIT Committe...</td>\n",
              "      <td>[{'label': ['Email Address'], 'points': [{'sta...</td>\n",
              "      <td>NaN</td>\n",
              "      <td>[(0, 14, PERSON), (62, 68, LOCATION), (625, 63...</td>\n",
              "    </tr>\n",
              "    <tr>\n",
              "      <th>2</th>\n",
              "      <td>Akhil Yadav Polemaina\\nHyderabad, Telangana - ...</td>\n",
              "      <td>[{'label': ['Skills'], 'points': [{'start': 37...</td>\n",
              "      <td>NaN</td>\n",
              "      <td>[(0, 21, PERSON), (22, 31, LOCATION), (764, 77...</td>\n",
              "    </tr>\n",
              "    <tr>\n",
              "      <th>3</th>\n",
              "      <td>Alok Khandai\\nOperational Analyst (SQL DBA) En...</td>\n",
              "      <td>[{'label': ['Skills'], 'points': [{'start': 80...</td>\n",
              "      <td>NaN</td>\n",
              "      <td>[(0, 12, PERSON), (54, 60, ORGANIZATION), (62,...</td>\n",
              "    </tr>\n",
              "    <tr>\n",
              "      <th>4</th>\n",
              "      <td>Ananya Chavan\\nlecturer - oracle tutorials\\n\\n...</td>\n",
              "      <td>[{'label': ['Degree'], 'points': [{'start': 20...</td>\n",
              "      <td>NaN</td>\n",
              "      <td>[(0, 13, PERSON), (24, 41, ORGANIZATION), (43,...</td>\n",
              "    </tr>\n",
              "  </tbody>\n",
              "</table>\n",
              "</div>"
            ],
            "text/plain": [
              "                                             content  ...                                           entities\n",
              "0  Abhishek Jha\\nApplication Development Associat...  ...  [(0, 12, PERSON), (49, 58, ORGANIZATION), (60,...\n",
              "1  Afreen Jamadar\\nActive member of IIIT Committe...  ...  [(0, 14, PERSON), (62, 68, LOCATION), (625, 63...\n",
              "2  Akhil Yadav Polemaina\\nHyderabad, Telangana - ...  ...  [(0, 21, PERSON), (22, 31, LOCATION), (764, 77...\n",
              "3  Alok Khandai\\nOperational Analyst (SQL DBA) En...  ...  [(0, 12, PERSON), (54, 60, ORGANIZATION), (62,...\n",
              "4  Ananya Chavan\\nlecturer - oracle tutorials\\n\\n...  ...  [(0, 13, PERSON), (24, 41, ORGANIZATION), (43,...\n",
              "\n",
              "[5 rows x 4 columns]"
            ]
          },
          "metadata": {
            "tags": []
          },
          "execution_count": 7
        }
      ]
    },
    {
      "cell_type": "code",
      "metadata": {
        "colab": {
          "base_uri": "https://localhost:8080/",
          "height": 204
        },
        "id": "Xdmn5KOuQcI7",
        "outputId": "70a35bd7-9ff4-4185-a842-6a7d35efd2b4"
      },
      "source": [
        "df = df.drop(['extras'], axis=1)\n",
        "df = df.drop(['annotation'], axis=1)\n",
        "df.head()"
      ],
      "execution_count": 8,
      "outputs": [
        {
          "output_type": "execute_result",
          "data": {
            "text/html": [
              "<div>\n",
              "<style scoped>\n",
              "    .dataframe tbody tr th:only-of-type {\n",
              "        vertical-align: middle;\n",
              "    }\n",
              "\n",
              "    .dataframe tbody tr th {\n",
              "        vertical-align: top;\n",
              "    }\n",
              "\n",
              "    .dataframe thead th {\n",
              "        text-align: right;\n",
              "    }\n",
              "</style>\n",
              "<table border=\"1\" class=\"dataframe\">\n",
              "  <thead>\n",
              "    <tr style=\"text-align: right;\">\n",
              "      <th></th>\n",
              "      <th>content</th>\n",
              "      <th>entities</th>\n",
              "    </tr>\n",
              "  </thead>\n",
              "  <tbody>\n",
              "    <tr>\n",
              "      <th>0</th>\n",
              "      <td>Abhishek Jha\\nApplication Development Associat...</td>\n",
              "      <td>[(0, 12, PERSON), (49, 58, ORGANIZATION), (60,...</td>\n",
              "    </tr>\n",
              "    <tr>\n",
              "      <th>1</th>\n",
              "      <td>Afreen Jamadar\\nActive member of IIIT Committe...</td>\n",
              "      <td>[(0, 14, PERSON), (62, 68, LOCATION), (625, 63...</td>\n",
              "    </tr>\n",
              "    <tr>\n",
              "      <th>2</th>\n",
              "      <td>Akhil Yadav Polemaina\\nHyderabad, Telangana - ...</td>\n",
              "      <td>[(0, 21, PERSON), (22, 31, LOCATION), (764, 77...</td>\n",
              "    </tr>\n",
              "    <tr>\n",
              "      <th>3</th>\n",
              "      <td>Alok Khandai\\nOperational Analyst (SQL DBA) En...</td>\n",
              "      <td>[(0, 12, PERSON), (54, 60, ORGANIZATION), (62,...</td>\n",
              "    </tr>\n",
              "    <tr>\n",
              "      <th>4</th>\n",
              "      <td>Ananya Chavan\\nlecturer - oracle tutorials\\n\\n...</td>\n",
              "      <td>[(0, 13, PERSON), (24, 41, ORGANIZATION), (43,...</td>\n",
              "    </tr>\n",
              "  </tbody>\n",
              "</table>\n",
              "</div>"
            ],
            "text/plain": [
              "                                             content                                           entities\n",
              "0  Abhishek Jha\\nApplication Development Associat...  [(0, 12, PERSON), (49, 58, ORGANIZATION), (60,...\n",
              "1  Afreen Jamadar\\nActive member of IIIT Committe...  [(0, 14, PERSON), (62, 68, LOCATION), (625, 63...\n",
              "2  Akhil Yadav Polemaina\\nHyderabad, Telangana - ...  [(0, 21, PERSON), (22, 31, LOCATION), (764, 77...\n",
              "3  Alok Khandai\\nOperational Analyst (SQL DBA) En...  [(0, 12, PERSON), (54, 60, ORGANIZATION), (62,...\n",
              "4  Ananya Chavan\\nlecturer - oracle tutorials\\n\\n...  [(0, 13, PERSON), (24, 41, ORGANIZATION), (43,..."
            ]
          },
          "metadata": {
            "tags": []
          },
          "execution_count": 8
        }
      ]
    },
    {
      "cell_type": "code",
      "metadata": {
        "id": "mEHTHRuBQnZm"
      },
      "source": [
        "TRAIN_DATA =[]\n",
        "for col in df.iloc:\n",
        "  TRAIN_DATA.append((col['content'], {'entities': col['entities']}))"
      ],
      "execution_count": 9,
      "outputs": []
    },
    {
      "cell_type": "code",
      "metadata": {
        "id": "XwI2P2b-2vnT"
      },
      "source": [
        "def trim_entity_spans(data: list) -> list:\n",
        "    \"\"\"Removes leading and trailing white spaces from entity spans.\n",
        "\n",
        "    Args:\n",
        "        data (list): The data to be cleaned in spaCy JSON format.\n",
        "\n",
        "    Returns:\n",
        "        list: The cleaned data.\n",
        "    \"\"\"\n",
        "    invalid_span_tokens = re.compile(r'\\s')\n",
        "\n",
        "    cleaned_data = []\n",
        "    for text, annotations in data:\n",
        "        entities = annotations['entities']\n",
        "        valid_entities = []\n",
        "        for start, end, label in entities:\n",
        "            valid_start = start\n",
        "            valid_end = end\n",
        "            while valid_start < len(text) and invalid_span_tokens.match(\n",
        "                    text[valid_start]):\n",
        "                valid_start += 1\n",
        "            while valid_end > 1 and invalid_span_tokens.match(\n",
        "                    text[valid_end - 1]):\n",
        "                valid_end -= 1\n",
        "            valid_entities.append([valid_start, valid_end, label])\n",
        "        cleaned_data.append([text, {'entities': valid_entities}])\n",
        "\n",
        "    return cleaned_data\n",
        "\n",
        "TRAIN_DATA = trim_entity_spans(TRAIN_DATA)"
      ],
      "execution_count": 10,
      "outputs": []
    },
    {
      "cell_type": "markdown",
      "metadata": {
        "id": "UTPwtpVixs9p"
      },
      "source": [
        "#Обучение"
      ]
    },
    {
      "cell_type": "code",
      "metadata": {
        "colab": {
          "base_uri": "https://localhost:8080/"
        },
        "id": "aYMpSg938Z72",
        "outputId": "ba0dee8c-92c0-4e18-fbd4-a0e7e22b4d28"
      },
      "source": [
        "pip install spacy"
      ],
      "execution_count": 11,
      "outputs": [
        {
          "output_type": "stream",
          "text": [
            "Requirement already satisfied: spacy in /usr/local/lib/python3.7/dist-packages (2.2.4)\n",
            "Requirement already satisfied: srsly<1.1.0,>=1.0.2 in /usr/local/lib/python3.7/dist-packages (from spacy) (1.0.5)\n",
            "Requirement already satisfied: thinc==7.4.0 in /usr/local/lib/python3.7/dist-packages (from spacy) (7.4.0)\n",
            "Requirement already satisfied: murmurhash<1.1.0,>=0.28.0 in /usr/local/lib/python3.7/dist-packages (from spacy) (1.0.5)\n",
            "Requirement already satisfied: cymem<2.1.0,>=2.0.2 in /usr/local/lib/python3.7/dist-packages (from spacy) (2.0.5)\n",
            "Requirement already satisfied: preshed<3.1.0,>=3.0.2 in /usr/local/lib/python3.7/dist-packages (from spacy) (3.0.5)\n",
            "Requirement already satisfied: blis<0.5.0,>=0.4.0 in /usr/local/lib/python3.7/dist-packages (from spacy) (0.4.1)\n",
            "Requirement already satisfied: tqdm<5.0.0,>=4.38.0 in /usr/local/lib/python3.7/dist-packages (from spacy) (4.41.1)\n",
            "Requirement already satisfied: numpy>=1.15.0 in /usr/local/lib/python3.7/dist-packages (from spacy) (1.19.5)\n",
            "Requirement already satisfied: wasabi<1.1.0,>=0.4.0 in /usr/local/lib/python3.7/dist-packages (from spacy) (0.8.2)\n",
            "Requirement already satisfied: plac<1.2.0,>=0.9.6 in /usr/local/lib/python3.7/dist-packages (from spacy) (1.1.3)\n",
            "Requirement already satisfied: requests<3.0.0,>=2.13.0 in /usr/local/lib/python3.7/dist-packages (from spacy) (2.23.0)\n",
            "Requirement already satisfied: catalogue<1.1.0,>=0.0.7 in /usr/local/lib/python3.7/dist-packages (from spacy) (1.0.0)\n",
            "Requirement already satisfied: setuptools in /usr/local/lib/python3.7/dist-packages (from spacy) (56.0.0)\n",
            "Requirement already satisfied: urllib3!=1.25.0,!=1.25.1,<1.26,>=1.21.1 in /usr/local/lib/python3.7/dist-packages (from requests<3.0.0,>=2.13.0->spacy) (1.24.3)\n",
            "Requirement already satisfied: idna<3,>=2.5 in /usr/local/lib/python3.7/dist-packages (from requests<3.0.0,>=2.13.0->spacy) (2.10)\n",
            "Requirement already satisfied: certifi>=2017.4.17 in /usr/local/lib/python3.7/dist-packages (from requests<3.0.0,>=2.13.0->spacy) (2020.12.5)\n",
            "Requirement already satisfied: chardet<4,>=3.0.2 in /usr/local/lib/python3.7/dist-packages (from requests<3.0.0,>=2.13.0->spacy) (3.0.4)\n",
            "Requirement already satisfied: importlib-metadata>=0.20; python_version < \"3.8\" in /usr/local/lib/python3.7/dist-packages (from catalogue<1.1.0,>=0.0.7->spacy) (3.10.1)\n",
            "Requirement already satisfied: typing-extensions>=3.6.4; python_version < \"3.8\" in /usr/local/lib/python3.7/dist-packages (from importlib-metadata>=0.20; python_version < \"3.8\"->catalogue<1.1.0,>=0.0.7->spacy) (3.7.4.3)\n",
            "Requirement already satisfied: zipp>=0.5 in /usr/local/lib/python3.7/dist-packages (from importlib-metadata>=0.20; python_version < \"3.8\"->catalogue<1.1.0,>=0.0.7->spacy) (3.4.1)\n"
          ],
          "name": "stdout"
        }
      ]
    },
    {
      "cell_type": "code",
      "metadata": {
        "id": "PVWRg--bFNi3"
      },
      "source": [
        "def create_blank_nlp(train_data):\n",
        "    nlp = spacy.blank(\"en\")\n",
        "    ner = nlp.create_pipe(\"ner\")\n",
        "    nlp.add_pipe(ner, last=True)\n",
        "    ner = nlp.get_pipe(\"ner\")\n",
        "    for _, annotations in train_data:\n",
        "        for ent in annotations.get(\"entities\"):\n",
        "            ner.add_label(ent[2])\n",
        "    return nlp"
      ],
      "execution_count": 12,
      "outputs": []
    },
    {
      "cell_type": "code",
      "metadata": {
        "colab": {
          "base_uri": "https://localhost:8080/"
        },
        "id": "RlpK8K27FQYj",
        "outputId": "0a9dd976-21b9-4fc8-ed08-d8f44ad755a1"
      },
      "source": [
        "nlp = create_blank_nlp(TRAIN_DATA)\n",
        "optimizer = nlp.begin_training()\n",
        "for i in range(10):\n",
        "    losses = {}\n",
        "    batches = minibatch(TRAIN_DATA, size=compounding(4.0, 32.0, 1.001))\n",
        "    for batch in batches:\n",
        "        texts, annotations = zip(*batch)\n",
        "        nlp.update(texts, annotations, sgd = optimizer, drop=0.1, losses=losses)\n",
        "    print(f\"Эпоха {i}, ошибка: {losses}\")"
      ],
      "execution_count": 13,
      "outputs": [
        {
          "output_type": "stream",
          "text": [
            "Эпоха 0, ошибка: {'ner': 30090.95131472824}\n",
            "Эпоха 1, ошибка: {'ner': 14024.250839699691}\n",
            "Эпоха 2, ошибка: {'ner': 9460.907696839828}\n",
            "Эпоха 3, ошибка: {'ner': 9174.933850395106}\n",
            "Эпоха 4, ошибка: {'ner': 14237.91988391488}\n",
            "Эпоха 5, ошибка: {'ner': 8048.455585885071}\n",
            "Эпоха 6, ошибка: {'ner': 10524.437786284163}\n",
            "Эпоха 7, ошибка: {'ner': 13363.175489177158}\n",
            "Эпоха 8, ошибка: {'ner': 7063.032096710016}\n",
            "Эпоха 9, ошибка: {'ner': 9237.514056494154}\n"
          ],
          "name": "stdout"
        }
      ]
    },
    {
      "cell_type": "code",
      "metadata": {
        "colab": {
          "base_uri": "https://localhost:8080/",
          "height": 52
        },
        "id": "dv6FYTYf4dfz",
        "outputId": "04bffc88-4798-46c2-e13a-38b5352c103e"
      },
      "source": [
        "doc = nlp(\"Bob Ross lived in Florida knows Python, C#, Java and wants 1000 dollars, he worked in Google\")\n",
        "displacy.render(doc, style=\"ent\", jupyter=True)"
      ],
      "execution_count": 14,
      "outputs": [
        {
          "output_type": "display_data",
          "data": {
            "text/html": [
              "<span class=\"tex2jax_ignore\"><div class=\"entities\" style=\"line-height: 2.5; direction: ltr\">\n",
              "<mark class=\"entity\" style=\"background: #aa9cfc; padding: 0.45em 0.6em; margin: 0 0.25em; line-height: 1; border-radius: 0.35em;\">\n",
              "    Bob Ross\n",
              "    <span style=\"font-size: 0.8em; font-weight: bold; line-height: 1; border-radius: 0.35em; text-transform: uppercase; vertical-align: middle; margin-left: 0.5rem\">PERSON</span>\n",
              "</mark>\n",
              " lived in Florida knows Python, C#, Java and wants 1000 dollars, he worked in Google</div></span>"
            ],
            "text/plain": [
              "<IPython.core.display.HTML object>"
            ]
          },
          "metadata": {
            "tags": []
          }
        }
      ]
    },
    {
      "cell_type": "code",
      "metadata": {
        "id": "kfn2Qs0Z6qV1"
      },
      "source": [
        "nlp.to_disk(\"NLP_model\")"
      ],
      "execution_count": 15,
      "outputs": []
    },
    {
      "cell_type": "code",
      "metadata": {
        "colab": {
          "base_uri": "https://localhost:8080/",
          "height": 52
        },
        "id": "kFZIW30MPiqM",
        "outputId": "81940772-a7d2-4042-9765-f897fa9c8852"
      },
      "source": [
        "nlp = spacy.load(\"en_core_web_sm\")\n",
        "doc = nlp(\"Bob Ross lived in Florida knows Python, C#, Java and wants 1000 dollars, he worked in Google\")\n",
        "displacy.render(doc, style=\"ent\", jupyter=True)"
      ],
      "execution_count": 16,
      "outputs": [
        {
          "output_type": "display_data",
          "data": {
            "text/html": [
              "<span class=\"tex2jax_ignore\"><div class=\"entities\" style=\"line-height: 2.5; direction: ltr\">\n",
              "<mark class=\"entity\" style=\"background: #aa9cfc; padding: 0.45em 0.6em; margin: 0 0.25em; line-height: 1; border-radius: 0.35em;\">\n",
              "    Bob Ross\n",
              "    <span style=\"font-size: 0.8em; font-weight: bold; line-height: 1; border-radius: 0.35em; text-transform: uppercase; vertical-align: middle; margin-left: 0.5rem\">PERSON</span>\n",
              "</mark>\n",
              " lived in \n",
              "<mark class=\"entity\" style=\"background: #feca74; padding: 0.45em 0.6em; margin: 0 0.25em; line-height: 1; border-radius: 0.35em;\">\n",
              "    Florida\n",
              "    <span style=\"font-size: 0.8em; font-weight: bold; line-height: 1; border-radius: 0.35em; text-transform: uppercase; vertical-align: middle; margin-left: 0.5rem\">GPE</span>\n",
              "</mark>\n",
              " knows \n",
              "<mark class=\"entity\" style=\"background: #feca74; padding: 0.45em 0.6em; margin: 0 0.25em; line-height: 1; border-radius: 0.35em;\">\n",
              "    Python\n",
              "    <span style=\"font-size: 0.8em; font-weight: bold; line-height: 1; border-radius: 0.35em; text-transform: uppercase; vertical-align: middle; margin-left: 0.5rem\">GPE</span>\n",
              "</mark>\n",
              ", C#, \n",
              "<mark class=\"entity\" style=\"background: #aa9cfc; padding: 0.45em 0.6em; margin: 0 0.25em; line-height: 1; border-radius: 0.35em;\">\n",
              "    Java\n",
              "    <span style=\"font-size: 0.8em; font-weight: bold; line-height: 1; border-radius: 0.35em; text-transform: uppercase; vertical-align: middle; margin-left: 0.5rem\">PERSON</span>\n",
              "</mark>\n",
              " and wants \n",
              "<mark class=\"entity\" style=\"background: #e4e7d2; padding: 0.45em 0.6em; margin: 0 0.25em; line-height: 1; border-radius: 0.35em;\">\n",
              "    1000 dollars\n",
              "    <span style=\"font-size: 0.8em; font-weight: bold; line-height: 1; border-radius: 0.35em; text-transform: uppercase; vertical-align: middle; margin-left: 0.5rem\">MONEY</span>\n",
              "</mark>\n",
              ", he worked in \n",
              "<mark class=\"entity\" style=\"background: #7aecec; padding: 0.45em 0.6em; margin: 0 0.25em; line-height: 1; border-radius: 0.35em;\">\n",
              "    Google\n",
              "    <span style=\"font-size: 0.8em; font-weight: bold; line-height: 1; border-radius: 0.35em; text-transform: uppercase; vertical-align: middle; margin-left: 0.5rem\">ORG</span>\n",
              "</mark>\n",
              "</div></span>"
            ],
            "text/plain": [
              "<IPython.core.display.HTML object>"
            ]
          },
          "metadata": {
            "tags": []
          }
        }
      ]
    }
  ]
}